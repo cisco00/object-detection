{
 "cells": [
  {
   "cell_type": "code",
   "execution_count": 4,
   "metadata": {},
   "outputs": [],
   "source": [
    "!mkdir ../lookalikeceleb/"
   ]
  },
  {
   "cell_type": "code",
   "execution_count": 46,
   "metadata": {},
   "outputs": [],
   "source": [
    "import face_recognition\n",
    "import os\n",
    "import numpy as np\n",
    "from IPython.display import Image\n",
    "import matplotlib.pyplot as plt\n",
    "import matplotlib.image as mpimg\n",
    "from matplotlib import rcParams\n",
    "%matplotlib inline"
   ]
  },
  {
   "cell_type": "code",
   "execution_count": 37,
   "metadata": {},
   "outputs": [],
   "source": [
    "def load_images(known_images_dir):\n",
    "    known_encodings = []\n",
    "    known_images = []\n",
    "\n",
    "    for file in os.listdir(known_images_dir):\n",
    "        #fsdecode function decode the file into filename\n",
    "        filename = os.fsdecode(file)\n",
    "        image = face_recognition.load_image_file(os.path.join(known_images_dir, filename))\n",
    "\n",
    "        enc = face_recognition.face_encodings(image)\n",
    "        if len(enc) > 0:\n",
    "            known_encodings.append(enc[0])\n",
    "            known_images.append(filename)\n",
    "        \n",
    "    return (known_encodings, known_images)"
   ]
  },
  {
   "cell_type": "markdown",
   "metadata": {},
   "source": [
    "##### calculating the distance btw the two pics to know the similarity "
   ]
  },
  {
   "cell_type": "code",
   "execution_count": 38,
   "metadata": {},
   "outputs": [],
   "source": [
    "def calculate_face_distance(known_encodings, unknown_img_path, cutoff=0.5, num_results=4):\n",
    "    image_to_test = face_recognition.load_image_file(unknown_img_path)\n",
    "    image_to_test_encoding = face_recognition.face_encodings(image_to_test)[0]\n",
    "\n",
    "    face_distances = face_recognition.face_distance(known_encodings, image_to_test_encoding)\n",
    "    return (unknown_img_path, known_images[face_distances.argmin()])"
   ]
  },
  {
   "cell_type": "markdown",
   "metadata": {},
   "source": [
    "##### uploading image of celebrity"
   ]
  },
  {
   "cell_type": "code",
   "execution_count": 43,
   "metadata": {},
   "outputs": [],
   "source": [
    "known_encodings, known_images = load_images(\"/cxldata/projects/lookalikeceleb/images\")"
   ]
  },
  {
   "cell_type": "markdown",
   "metadata": {},
   "source": [
    "##### uploading image of me"
   ]
  },
  {
   "cell_type": "code",
   "execution_count": 44,
   "metadata": {},
   "outputs": [],
   "source": [
    "original_image = \"../lookalikeceleb/myimage.jpg\""
   ]
  },
  {
   "cell_type": "markdown",
   "metadata": {},
   "source": [
    "###### calculating distance for similarities"
   ]
  },
  {
   "cell_type": "code",
   "execution_count": 48,
   "metadata": {},
   "outputs": [],
   "source": [
    "matching_image = calculate_face_distance(known_encodings, original_image)[1]"
   ]
  },
  {
   "cell_type": "markdown",
   "metadata": {},
   "source": [
    "##### reading images to checking for facial similarity  "
   ]
  },
  {
   "cell_type": "code",
   "execution_count": 49,
   "metadata": {},
   "outputs": [],
   "source": [
    "img_1 = mpimg.imread(original_image)\n",
    "img_2 = mpimg.imread('/cxldata/projects/lookalikeceleb/images/' + matching_image)"
   ]
  },
  {
   "cell_type": "markdown",
   "metadata": {},
   "source": [
    "##### displaying images"
   ]
  },
  {
   "cell_type": "code",
   "execution_count": null,
   "metadata": {},
   "outputs": [],
   "source": [
    "fig, ax = plt.subplots(1,2)\n",
    "\n",
    "ax[0].imshow(img_1)\n",
    "ax[1].imshow(img_1)"
   ]
  },
  {
   "cell_type": "code",
   "execution_count": null,
   "metadata": {},
   "outputs": [],
   "source": [
    "print('Hey boy you look like' + os.path.split(match_image)[0] + '!')"
   ]
  }
 ],
 "metadata": {
  "kernelspec": {
   "display_name": "Python 3",
   "language": "python",
   "name": "python3"
  },
  "language_info": {
   "codemirror_mode": {
    "name": "ipython",
    "version": 3
   },
   "file_extension": ".py",
   "mimetype": "text/x-python",
   "name": "python",
   "nbconvert_exporter": "python",
   "pygments_lexer": "ipython3",
   "version": "3.6.8"
  },
  "toc": {
   "base_numbering": 1,
   "nav_menu": {},
   "number_sections": true,
   "sideBar": true,
   "skip_h1_title": false,
   "title_cell": "Table of Contents",
   "title_sidebar": "Contents",
   "toc_cell": false,
   "toc_position": {},
   "toc_section_display": true,
   "toc_window_display": false
  }
 },
 "nbformat": 4,
 "nbformat_minor": 2
}
