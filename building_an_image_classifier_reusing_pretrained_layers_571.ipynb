{
 "cells": [
  {
   "cell_type": "code",
   "execution_count": 1,
   "metadata": {},
   "outputs": [],
   "source": [
    "import numpy as np\n",
    "# import pandas as pd\n",
    "import tensorflow as tf\n",
    "from tensorflow import keras"
   ]
  },
  {
   "cell_type": "markdown",
   "metadata": {},
   "source": [
    "##### loading data set into train and validation"
   ]
  },
  {
   "cell_type": "code",
   "execution_count": 2,
   "metadata": {},
   "outputs": [],
   "source": [
    "(X_train_full, y_train_full),(X_test,y_test) = keras.datasets.fashion_mnist.load_data()"
   ]
  },
  {
   "cell_type": "markdown",
   "metadata": {},
   "source": [
    "##### splitting data set into train and test"
   ]
  },
  {
   "cell_type": "code",
   "execution_count": 3,
   "metadata": {},
   "outputs": [],
   "source": [
    "X_train_full =X_train_full[:30000]\n",
    "y_train_full =y_train_full[:30000]"
   ]
  },
  {
   "cell_type": "code",
   "execution_count": 4,
   "metadata": {},
   "outputs": [],
   "source": [
    "X_test = X_test[:5000]\n",
    "y_test = y_test[:5000]"
   ]
  },
  {
   "cell_type": "markdown",
   "metadata": {},
   "source": [
    "##### Scale the train and test  by dividing by 255"
   ]
  },
  {
   "cell_type": "code",
   "execution_count": 5,
   "metadata": {},
   "outputs": [],
   "source": [
    "X_train_full = X_train_full/255.0\n",
    "X_test = X_test/255.0"
   ]
  },
  {
   "cell_type": "markdown",
   "metadata": {},
   "source": [
    "#### dividing the train set in other to get a validation set"
   ]
  },
  {
   "cell_type": "code",
   "execution_count": 6,
   "metadata": {},
   "outputs": [],
   "source": [
    "X_valid, X_train = X_train_full[:5000], X_train_full[5000:]\n",
    "y_valid, y_train = y_train_full[:5000], y_train_full[5000:]"
   ]
  },
  {
   "cell_type": "markdown",
   "metadata": {},
   "source": [
    "#### function for splitting the dataset"
   ]
  },
  {
   "cell_type": "code",
   "execution_count": 7,
   "metadata": {},
   "outputs": [],
   "source": [
    "def split_dataset(X, y):\n",
    "    y_5_or_6 = (y == 5) | (y == 6) # sandals or shirts\n",
    "    y_A = y[~y_5_or_6]\n",
    "    y_A[y_A > 6] -= 2 # class indices 7, 8, 9 should be moved to 5, 6, 7\n",
    "    y_B = (y[y_5_or_6] == 6).astype(np.float32) # binary classification task: is it a shirt (class 6)?\n",
    "    return ((X[~y_5_or_6], y_A), (X[y_5_or_6], y_B))"
   ]
  },
  {
   "cell_type": "code",
   "execution_count": 8,
   "metadata": {},
   "outputs": [],
   "source": [
    "(X_train_A, y_train_A), (X_train_B, y_train_B) = split_dataset(X_train, y_train)\n",
    "(X_valid_A, y_valid_A), (X_valid_B, y_valid_B) = split_dataset(X_valid, y_valid)\n",
    "(X_test_A, y_test_A), (X_test_B, y_test_B) = split_dataset(X_test, y_test)"
   ]
  },
  {
   "cell_type": "markdown",
   "metadata": {},
   "source": [
    "#### Setting seed "
   ]
  },
  {
   "cell_type": "code",
   "execution_count": 9,
   "metadata": {},
   "outputs": [],
   "source": [
    "tf.random.set_seed(50)\n",
    "np.random.seed(50)"
   ]
  },
  {
   "cell_type": "markdown",
   "metadata": {},
   "source": [
    "##### building function "
   ]
  },
  {
   "cell_type": "code",
   "execution_count": 10,
   "metadata": {},
   "outputs": [],
   "source": [
    "model_A = keras.Sequential()\n",
    "model_A.add(keras.layers.Flatten(input_shape=[28,28]))\n",
    "for n_hidden in (300, 100, 50, 50, 50):\n",
    "    model_A.add(keras.layers.Dense(n_hidden, activation=\"selu\"))\n",
    "model_A.add(keras.layers.Dense(8, activation=\"softmax\"))"
   ]
  },
  {
   "cell_type": "markdown",
   "metadata": {},
   "source": [
    "##### compiling the method"
   ]
  },
  {
   "cell_type": "code",
   "execution_count": 11,
   "metadata": {},
   "outputs": [],
   "source": [
    "model_A.compile(loss= \"sparse_categorical_crossentropy\",\n",
    "    optimizer= keras.optimizers.SGD(lr=1e-3),\n",
    "    metrics=[\"accuracy\"])"
   ]
  },
  {
   "cell_type": "markdown",
   "metadata": {},
   "source": [
    "##### Fitting model A"
   ]
  },
  {
   "cell_type": "code",
   "execution_count": 12,
   "metadata": {},
   "outputs": [
    {
     "name": "stdout",
     "output_type": "stream",
     "text": [
      "Train on 19875 samples, validate on 4014 samples\n",
      "Epoch 1/15\n",
      "19875/19875 [==============================] - 2s 118us/sample - loss: 0.7591 - accuracy: 0.7542 - val_loss: 0.4675 - val_accuracy: 0.8515\n",
      "Epoch 2/15\n",
      "19875/19875 [==============================] - 2s 94us/sample - loss: 0.4275 - accuracy: 0.8548 - val_loss: 0.4031 - val_accuracy: 0.8607\n",
      "Epoch 3/15\n",
      "19875/19875 [==============================] - 2s 94us/sample - loss: 0.3716 - accuracy: 0.8719 - val_loss: 0.3641 - val_accuracy: 0.8719\n",
      "Epoch 4/15\n",
      "19875/19875 [==============================] - 2s 95us/sample - loss: 0.3446 - accuracy: 0.8806 - val_loss: 0.3292 - val_accuracy: 0.8894\n",
      "Epoch 5/15\n",
      "19875/19875 [==============================] - 2s 94us/sample - loss: 0.3266 - accuracy: 0.8849 - val_loss: 0.3167 - val_accuracy: 0.8926\n",
      "Epoch 6/15\n",
      "19875/19875 [==============================] - 2s 94us/sample - loss: 0.3135 - accuracy: 0.8898 - val_loss: 0.3096 - val_accuracy: 0.8959\n",
      "Epoch 7/15\n",
      "19875/19875 [==============================] - 2s 93us/sample - loss: 0.3034 - accuracy: 0.8938 - val_loss: 0.3032 - val_accuracy: 0.8959\n",
      "Epoch 8/15\n",
      "19875/19875 [==============================] - 2s 93us/sample - loss: 0.2950 - accuracy: 0.8955 - val_loss: 0.3094 - val_accuracy: 0.8929\n",
      "Epoch 9/15\n",
      "19875/19875 [==============================] - 2s 94us/sample - loss: 0.2870 - accuracy: 0.8995 - val_loss: 0.2911 - val_accuracy: 0.9046\n",
      "Epoch 10/15\n",
      "19875/19875 [==============================] - 2s 94us/sample - loss: 0.2805 - accuracy: 0.9033 - val_loss: 0.2883 - val_accuracy: 0.9038\n",
      "Epoch 11/15\n",
      "19875/19875 [==============================] - 2s 93us/sample - loss: 0.2758 - accuracy: 0.9045 - val_loss: 0.3529 - val_accuracy: 0.8797\n",
      "Epoch 12/15\n",
      "19875/19875 [==============================] - 2s 95us/sample - loss: 0.2706 - accuracy: 0.9072 - val_loss: 0.2800 - val_accuracy: 0.9096\n",
      "Epoch 13/15\n",
      "19875/19875 [==============================] - 2s 107us/sample - loss: 0.2656 - accuracy: 0.9088 - val_loss: 0.2850 - val_accuracy: 0.9018\n",
      "Epoch 14/15\n",
      "19875/19875 [==============================] - 2s 103us/sample - loss: 0.2612 - accuracy: 0.9085 - val_loss: 0.2750 - val_accuracy: 0.9088\n",
      "Epoch 15/15\n",
      "19875/19875 [==============================] - 2s 94us/sample - loss: 0.2574 - accuracy: 0.9121 - val_loss: 0.2845 - val_accuracy: 0.9051\n"
     ]
    }
   ],
   "source": [
    "history = model_A.fit(X_train_A, y_train_A, epochs=15, validation_data=(X_valid_A, y_valid_A))"
   ]
  },
  {
   "cell_type": "code",
   "execution_count": 13,
   "metadata": {},
   "outputs": [],
   "source": [
    "model_A.save(\"my_model_A.h5\")"
   ]
  },
  {
   "cell_type": "markdown",
   "metadata": {},
   "source": [
    "##### Building model B"
   ]
  },
  {
   "cell_type": "code",
   "execution_count": 14,
   "metadata": {},
   "outputs": [],
   "source": [
    "model_B = keras.Sequential()\n",
    "model_B.add(keras.layers.Flatten(input_shape=[28,28]))\n",
    "for n_hidden in (300, 100, 50, 50, 50):\n",
    "    model_B.add(keras.layers.Dense(n_hidden, activation='relu'))\n",
    "model_B.add(keras.layers.Dense(1, activation='softmax'))"
   ]
  },
  {
   "cell_type": "markdown",
   "metadata": {},
   "source": [
    "##### compiling model"
   ]
  },
  {
   "cell_type": "code",
   "execution_count": 15,
   "metadata": {},
   "outputs": [],
   "source": [
    "model_B.compile(loss=\"binary_crossentropy\",\n",
    "    optimizer= keras.optimizers.Adam(lr=1e-3),\n",
    "    metrics=[\"accuracy\"])"
   ]
  },
  {
   "cell_type": "code",
   "execution_count": 16,
   "metadata": {},
   "outputs": [
    {
     "name": "stdout",
     "output_type": "stream",
     "text": [
      "Train on 5125 samples, validate on 986 samples\n",
      "Epoch 1/15\n",
      "5125/5125 [==============================] - 1s 228us/sample - loss: 7.5487 - accuracy: 0.5050 - val_loss: 7.6246 - val_accuracy: 0.5000\n",
      "Epoch 2/15\n",
      "5125/5125 [==============================] - 1s 102us/sample - loss: 7.5487 - accuracy: 0.5050 - val_loss: 7.6246 - val_accuracy: 0.5000\n",
      "Epoch 3/15\n",
      "5125/5125 [==============================] - 1s 104us/sample - loss: 7.5487 - accuracy: 0.5050 - val_loss: 7.6246 - val_accuracy: 0.5000\n",
      "Epoch 4/15\n",
      "5125/5125 [==============================] - 1s 101us/sample - loss: 7.5487 - accuracy: 0.5050 - val_loss: 7.6246 - val_accuracy: 0.5000\n",
      "Epoch 5/15\n",
      "5125/5125 [==============================] - 1s 104us/sample - loss: 7.5487 - accuracy: 0.5050 - val_loss: 7.6246 - val_accuracy: 0.5000\n",
      "Epoch 6/15\n",
      "5125/5125 [==============================] - 1s 101us/sample - loss: 7.5487 - accuracy: 0.5050 - val_loss: 7.6246 - val_accuracy: 0.5000\n",
      "Epoch 7/15\n",
      "5125/5125 [==============================] - 1s 101us/sample - loss: 7.5487 - accuracy: 0.5050 - val_loss: 7.6246 - val_accuracy: 0.5000\n",
      "Epoch 8/15\n",
      "5125/5125 [==============================] - 1s 101us/sample - loss: 7.5487 - accuracy: 0.5050 - val_loss: 7.6246 - val_accuracy: 0.5000\n",
      "Epoch 9/15\n",
      "5125/5125 [==============================] - 1s 100us/sample - loss: 7.5487 - accuracy: 0.5050 - val_loss: 7.6246 - val_accuracy: 0.5000\n",
      "Epoch 10/15\n",
      "5125/5125 [==============================] - 1s 102us/sample - loss: 7.5487 - accuracy: 0.5050 - val_loss: 7.6246 - val_accuracy: 0.5000\n",
      "Epoch 11/15\n",
      "5125/5125 [==============================] - 1s 101us/sample - loss: 7.5487 - accuracy: 0.5050 - val_loss: 7.6246 - val_accuracy: 0.5000\n",
      "Epoch 12/15\n",
      "5125/5125 [==============================] - 1s 101us/sample - loss: 7.5487 - accuracy: 0.5050 - val_loss: 7.6246 - val_accuracy: 0.5000\n",
      "Epoch 13/15\n",
      "5125/5125 [==============================] - 1s 102us/sample - loss: 7.5487 - accuracy: 0.5050 - val_loss: 7.6246 - val_accuracy: 0.5000\n",
      "Epoch 14/15\n",
      "5125/5125 [==============================] - 1s 101us/sample - loss: 7.5487 - accuracy: 0.5050 - val_loss: 7.6246 - val_accuracy: 0.5000\n",
      "Epoch 15/15\n",
      "5125/5125 [==============================] - 1s 101us/sample - loss: 7.5487 - accuracy: 0.5050 - val_loss: 7.6246 - val_accuracy: 0.5000\n"
     ]
    }
   ],
   "source": [
    "history = model_B.fit(X_train_B, y_train_B, epochs=15,\n",
    "            validation_data=(X_valid_B, y_valid_B))"
   ]
  },
  {
   "cell_type": "code",
   "execution_count": 17,
   "metadata": {},
   "outputs": [
    {
     "name": "stdout",
     "output_type": "stream",
     "text": [
      "Model: \"sequential\"\n",
      "_________________________________________________________________\n",
      "Layer (type)                 Output Shape              Param #   \n",
      "=================================================================\n",
      "flatten (Flatten)            (None, 784)               0         \n",
      "_________________________________________________________________\n",
      "dense (Dense)                (None, 300)               235500    \n",
      "_________________________________________________________________\n",
      "dense_1 (Dense)              (None, 100)               30100     \n",
      "_________________________________________________________________\n",
      "dense_2 (Dense)              (None, 50)                5050      \n",
      "_________________________________________________________________\n",
      "dense_3 (Dense)              (None, 50)                2550      \n",
      "_________________________________________________________________\n",
      "dense_4 (Dense)              (None, 50)                2550      \n",
      "_________________________________________________________________\n",
      "dense_5 (Dense)              (None, 8)                 408       \n",
      "=================================================================\n",
      "Total params: 276,158\n",
      "Trainable params: 276,158\n",
      "Non-trainable params: 0\n",
      "_________________________________________________________________\n"
     ]
    }
   ],
   "source": [
    "model_A.summary()"
   ]
  },
  {
   "cell_type": "code",
   "execution_count": 18,
   "metadata": {},
   "outputs": [
    {
     "name": "stdout",
     "output_type": "stream",
     "text": [
      "Model: \"sequential_1\"\n",
      "_________________________________________________________________\n",
      "Layer (type)                 Output Shape              Param #   \n",
      "=================================================================\n",
      "flatten_1 (Flatten)          (None, 784)               0         \n",
      "_________________________________________________________________\n",
      "dense_6 (Dense)              (None, 300)               235500    \n",
      "_________________________________________________________________\n",
      "dense_7 (Dense)              (None, 100)               30100     \n",
      "_________________________________________________________________\n",
      "dense_8 (Dense)              (None, 50)                5050      \n",
      "_________________________________________________________________\n",
      "dense_9 (Dense)              (None, 50)                2550      \n",
      "_________________________________________________________________\n",
      "dense_10 (Dense)             (None, 50)                2550      \n",
      "_________________________________________________________________\n",
      "dense_11 (Dense)             (None, 1)                 51        \n",
      "=================================================================\n",
      "Total params: 275,801\n",
      "Trainable params: 275,801\n",
      "Non-trainable params: 0\n",
      "_________________________________________________________________\n"
     ]
    }
   ],
   "source": [
    "model_B.summary()"
   ]
  },
  {
   "cell_type": "markdown",
   "metadata": {},
   "source": [
    "##### Cloning model A"
   ]
  },
  {
   "cell_type": "code",
   "execution_count": 19,
   "metadata": {},
   "outputs": [],
   "source": [
    "model_A_clone = keras.models.clone_model(model_A)"
   ]
  },
  {
   "cell_type": "code",
   "execution_count": 20,
   "metadata": {},
   "outputs": [],
   "source": [
    "model_A_clone.set_weights(model_A.get_weights())"
   ]
  },
  {
   "cell_type": "markdown",
   "metadata": {},
   "source": [
    "###### creating a new model_B_on_A based on model_A "
   ]
  },
  {
   "cell_type": "code",
   "execution_count": 21,
   "metadata": {},
   "outputs": [],
   "source": [
    "model_B_on_A = keras.models.Sequential(model_A.layers[:-1])"
   ]
  },
  {
   "cell_type": "code",
   "execution_count": 22,
   "metadata": {},
   "outputs": [],
   "source": [
    "model_B_on_A.add(keras.layers.Dense(1, activation='sigmoid'))"
   ]
  },
  {
   "cell_type": "code",
   "execution_count": 23,
   "metadata": {},
   "outputs": [],
   "source": [
    "for layers in model_B_on_A.layers[:-1]:\n",
    "    layers.trainable=False"
   ]
  },
  {
   "cell_type": "code",
   "execution_count": 24,
   "metadata": {},
   "outputs": [
    {
     "name": "stdout",
     "output_type": "stream",
     "text": [
      "Model: \"sequential_2\"\n",
      "_________________________________________________________________\n",
      "Layer (type)                 Output Shape              Param #   \n",
      "=================================================================\n",
      "flatten (Flatten)            (None, 784)               0         \n",
      "_________________________________________________________________\n",
      "dense (Dense)                (None, 300)               235500    \n",
      "_________________________________________________________________\n",
      "dense_1 (Dense)              (None, 100)               30100     \n",
      "_________________________________________________________________\n",
      "dense_2 (Dense)              (None, 50)                5050      \n",
      "_________________________________________________________________\n",
      "dense_3 (Dense)              (None, 50)                2550      \n",
      "_________________________________________________________________\n",
      "dense_4 (Dense)              (None, 50)                2550      \n",
      "_________________________________________________________________\n",
      "dense_12 (Dense)             (None, 1)                 51        \n",
      "=================================================================\n",
      "Total params: 275,801\n",
      "Trainable params: 51\n",
      "Non-trainable params: 275,750\n",
      "_________________________________________________________________\n"
     ]
    }
   ],
   "source": [
    "model_B_on_A.summary()"
   ]
  },
  {
   "cell_type": "code",
   "execution_count": 25,
   "metadata": {},
   "outputs": [],
   "source": [
    "model_B_on_A.compile(loss=\"binary_crossentropy\",\n",
    "     optimizer=keras.optimizers.SGD(lr=1e-3),\n",
    "     metrics=[\"accuracy\"])"
   ]
  },
  {
   "cell_type": "code",
   "execution_count": 26,
   "metadata": {},
   "outputs": [
    {
     "name": "stdout",
     "output_type": "stream",
     "text": [
      "Train on 5125 samples, validate on 986 samples\n",
      "Epoch 1/15\n",
      "5125/5125 [==============================] - 1s 169us/sample - loss: 0.4913 - accuracy: 0.7801 - val_loss: 0.2907 - val_accuracy: 0.9026\n",
      "Epoch 2/15\n",
      "5125/5125 [==============================] - 0s 78us/sample - loss: 0.1964 - accuracy: 0.9516 - val_loss: 0.1746 - val_accuracy: 0.9503\n",
      "Epoch 3/15\n",
      "5125/5125 [==============================] - 0s 78us/sample - loss: 0.1285 - accuracy: 0.9709 - val_loss: 0.1304 - val_accuracy: 0.9615\n",
      "Epoch 4/15\n",
      "5125/5125 [==============================] - 0s 77us/sample - loss: 0.0984 - accuracy: 0.9778 - val_loss: 0.1069 - val_accuracy: 0.9726\n",
      "Epoch 5/15\n",
      "5125/5125 [==============================] - 0s 77us/sample - loss: 0.0810 - accuracy: 0.9813 - val_loss: 0.0923 - val_accuracy: 0.9797\n",
      "Epoch 6/15\n",
      "5125/5125 [==============================] - 0s 78us/sample - loss: 0.0697 - accuracy: 0.9836 - val_loss: 0.0823 - val_accuracy: 0.9838\n",
      "Epoch 7/15\n",
      "5125/5125 [==============================] - 0s 78us/sample - loss: 0.0617 - accuracy: 0.9863 - val_loss: 0.0750 - val_accuracy: 0.9848\n",
      "Epoch 8/15\n",
      "5125/5125 [==============================] - 0s 76us/sample - loss: 0.0557 - accuracy: 0.9875 - val_loss: 0.0694 - val_accuracy: 0.9858\n",
      "Epoch 9/15\n",
      "5125/5125 [==============================] - 0s 78us/sample - loss: 0.0510 - accuracy: 0.9893 - val_loss: 0.0649 - val_accuracy: 0.9858\n",
      "Epoch 10/15\n",
      "5125/5125 [==============================] - 0s 76us/sample - loss: 0.0472 - accuracy: 0.9895 - val_loss: 0.0613 - val_accuracy: 0.9868\n",
      "Epoch 11/15\n",
      "5125/5125 [==============================] - 0s 76us/sample - loss: 0.0441 - accuracy: 0.9904 - val_loss: 0.0584 - val_accuracy: 0.9868\n",
      "Epoch 12/15\n",
      "5125/5125 [==============================] - 0s 77us/sample - loss: 0.0415 - accuracy: 0.9910 - val_loss: 0.0559 - val_accuracy: 0.9878\n",
      "Epoch 13/15\n",
      "5125/5125 [==============================] - 0s 78us/sample - loss: 0.0393 - accuracy: 0.9918 - val_loss: 0.0537 - val_accuracy: 0.9878\n",
      "Epoch 14/15\n",
      "5125/5125 [==============================] - 0s 76us/sample - loss: 0.0374 - accuracy: 0.9920 - val_loss: 0.0518 - val_accuracy: 0.9888\n",
      "Epoch 15/15\n",
      "5125/5125 [==============================] - 0s 76us/sample - loss: 0.0357 - accuracy: 0.9922 - val_loss: 0.0502 - val_accuracy: 0.9888\n"
     ]
    },
    {
     "data": {
      "text/plain": [
       "<tensorflow.python.keras.callbacks.History at 0x7fcc381aafd0>"
      ]
     },
     "execution_count": 26,
     "metadata": {},
     "output_type": "execute_result"
    }
   ],
   "source": [
    "model_B_on_A.fit(X_train_B, y_train_B, epochs=15, validation_data=(X_valid_B, y_valid_B))"
   ]
  },
  {
   "cell_type": "code",
   "execution_count": 27,
   "metadata": {},
   "outputs": [
    {
     "name": "stdout",
     "output_type": "stream",
     "text": [
      "WARNING:tensorflow:From /usr/local/anaconda/envs/tensorflow2/lib/python3.6/site-packages/tensorflow_core/python/ops/resource_variable_ops.py:1786: calling BaseResourceVariable.__init__ (from tensorflow.python.ops.resource_variable_ops) with constraint is deprecated and will be removed in a future version.\n",
      "Instructions for updating:\n",
      "If using Keras pass *_constraint arguments to layers.\n",
      "INFO:tensorflow:Assets written to: real_model/assets\n"
     ]
    }
   ],
   "source": [
    "model_B_on_A.save(\"real_model\")"
   ]
  },
  {
   "cell_type": "markdown",
   "metadata": {},
   "source": [
    "#### evaluating the model with transfer learning model"
   ]
  },
  {
   "cell_type": "code",
   "execution_count": 28,
   "metadata": {},
   "outputs": [
    {
     "name": "stdout",
     "output_type": "stream",
     "text": [
      "967/967 [==============================] - 0s 52us/sample - loss: 7.6483 - accuracy: 0.4984\n"
     ]
    },
    {
     "data": {
      "text/plain": [
       "[7.64827382502906, 0.49844882]"
      ]
     },
     "execution_count": 28,
     "metadata": {},
     "output_type": "execute_result"
    }
   ],
   "source": [
    "model_B.evaluate(X_test_B, y_test_B)"
   ]
  },
  {
   "cell_type": "code",
   "execution_count": 29,
   "metadata": {},
   "outputs": [
    {
     "name": "stdout",
     "output_type": "stream",
     "text": [
      "967/967 [==============================] - 0s 52us/sample - loss: 0.0318 - accuracy: 0.9959\n"
     ]
    },
    {
     "data": {
      "text/plain": [
       "[0.03175078355153443, 0.9958635]"
      ]
     },
     "execution_count": 29,
     "metadata": {},
     "output_type": "execute_result"
    }
   ],
   "source": [
    "model_B_on_A.evaluate(X_test_B, y_test_B)"
   ]
  },
  {
   "cell_type": "markdown",
   "metadata": {},
   "source": [
    "#### we can conclude that the train transfer train model performs more better than the train model given that it has being able to learn accross time that even with small that set it will perform way better than the train model"
   ]
  }
 ],
 "metadata": {
  "kernelspec": {
   "display_name": "tensorflow2",
   "language": "python",
   "name": "tensorflow2"
  },
  "language_info": {
   "codemirror_mode": {
    "name": "ipython",
    "version": 3
   },
   "file_extension": ".py",
   "mimetype": "text/x-python",
   "name": "python",
   "nbconvert_exporter": "python",
   "pygments_lexer": "ipython3",
   "version": "3.6.8"
  },
  "toc": {
   "base_numbering": 1,
   "nav_menu": {},
   "number_sections": true,
   "sideBar": true,
   "skip_h1_title": false,
   "title_cell": "Table of Contents",
   "title_sidebar": "Contents",
   "toc_cell": false,
   "toc_position": {},
   "toc_section_display": true,
   "toc_window_display": false
  }
 },
 "nbformat": 4,
 "nbformat_minor": 2
}
